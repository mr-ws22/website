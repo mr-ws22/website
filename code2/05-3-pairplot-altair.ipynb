{
 "cells": [
  {
   "cell_type": "markdown",
   "metadata": {
    "slideshow": {
     "slide_type": "slide"
    }
   },
   "source": [
    "# Pairplot\n"
   ]
  },
  {
   "cell_type": "markdown",
   "metadata": {
    "slideshow": {
     "slide_type": "slide"
    }
   },
   "source": [
    "## Python setup"
   ]
  },
  {
   "cell_type": "code",
   "execution_count": 16,
   "metadata": {
    "slideshow": {
     "slide_type": "slide"
    }
   },
   "outputs": [
    {
     "data": {
      "text/plain": [
       "DataTransformerRegistry.enable('default')"
      ]
     },
     "execution_count": 16,
     "metadata": {},
     "output_type": "execute_result"
    }
   ],
   "source": [
    "import pandas as pd\n",
    "import altair as alt\n",
    "import warnings\n",
    "\n",
    "warnings.simplefilter(action='ignore', category=FutureWarning)\n",
    "alt.data_transformers.disable_max_rows()"
   ]
  },
  {
   "cell_type": "markdown",
   "metadata": {
    "slideshow": {
     "slide_type": "slide"
    }
   },
   "source": [
    "## Data"
   ]
  },
  {
   "cell_type": "markdown",
   "metadata": {
    "slideshow": {
     "slide_type": "slide"
    }
   },
   "source": [
    "### Import data"
   ]
  },
  {
   "cell_type": "code",
   "execution_count": 17,
   "metadata": {
    "slideshow": {
     "slide_type": "slide"
    }
   },
   "outputs": [],
   "source": [
    "ROOT = \"https://raw.githubusercontent.com/kirenz/datasets/master/\"\n",
    "DATA = \"height.csv\"\n",
    "df = pd.read_csv(ROOT + DATA)"
   ]
  },
  {
   "cell_type": "markdown",
   "metadata": {
    "slideshow": {
     "slide_type": "slide"
    }
   },
   "source": [
    "### Data structure"
   ]
  },
  {
   "cell_type": "code",
   "execution_count": 18,
   "metadata": {},
   "outputs": [
    {
     "data": {
      "text/html": [
       "<div>\n",
       "<style scoped>\n",
       "    .dataframe tbody tr th:only-of-type {\n",
       "        vertical-align: middle;\n",
       "    }\n",
       "\n",
       "    .dataframe tbody tr th {\n",
       "        vertical-align: top;\n",
       "    }\n",
       "\n",
       "    .dataframe thead th {\n",
       "        text-align: right;\n",
       "    }\n",
       "</style>\n",
       "<table border=\"1\" class=\"dataframe\">\n",
       "  <thead>\n",
       "    <tr style=\"text-align: right;\">\n",
       "      <th></th>\n",
       "      <th>name</th>\n",
       "      <th>id</th>\n",
       "      <th>height</th>\n",
       "      <th>average_height_parents</th>\n",
       "      <th>gender</th>\n",
       "    </tr>\n",
       "  </thead>\n",
       "  <tbody>\n",
       "    <tr>\n",
       "      <th>0</th>\n",
       "      <td>Stefanie</td>\n",
       "      <td>1</td>\n",
       "      <td>162</td>\n",
       "      <td>161</td>\n",
       "      <td>female</td>\n",
       "    </tr>\n",
       "    <tr>\n",
       "      <th>1</th>\n",
       "      <td>Peter</td>\n",
       "      <td>2</td>\n",
       "      <td>163</td>\n",
       "      <td>163</td>\n",
       "      <td>male</td>\n",
       "    </tr>\n",
       "    <tr>\n",
       "      <th>2</th>\n",
       "      <td>Stefanie</td>\n",
       "      <td>3</td>\n",
       "      <td>163</td>\n",
       "      <td>163</td>\n",
       "      <td>female</td>\n",
       "    </tr>\n",
       "    <tr>\n",
       "      <th>3</th>\n",
       "      <td>Manuela</td>\n",
       "      <td>4</td>\n",
       "      <td>164</td>\n",
       "      <td>165</td>\n",
       "      <td>female</td>\n",
       "    </tr>\n",
       "    <tr>\n",
       "      <th>4</th>\n",
       "      <td>Simon</td>\n",
       "      <td>5</td>\n",
       "      <td>164</td>\n",
       "      <td>163</td>\n",
       "      <td>male</td>\n",
       "    </tr>\n",
       "  </tbody>\n",
       "</table>\n",
       "</div>"
      ],
      "text/plain": [
       "       name  id  height  average_height_parents  gender\n",
       "0  Stefanie   1     162                     161  female\n",
       "1     Peter   2     163                     163    male\n",
       "2  Stefanie   3     163                     163  female\n",
       "3   Manuela   4     164                     165  female\n",
       "4     Simon   5     164                     163    male"
      ]
     },
     "execution_count": 18,
     "metadata": {},
     "output_type": "execute_result"
    }
   ],
   "source": [
    "df.head()"
   ]
  },
  {
   "cell_type": "code",
   "execution_count": 19,
   "metadata": {
    "slideshow": {
     "slide_type": "slide"
    }
   },
   "outputs": [
    {
     "name": "stdout",
     "output_type": "stream",
     "text": [
      "<class 'pandas.core.frame.DataFrame'>\n",
      "RangeIndex: 20 entries, 0 to 19\n",
      "Data columns (total 5 columns):\n",
      " #   Column                  Non-Null Count  Dtype \n",
      "---  ------                  --------------  ----- \n",
      " 0   name                    20 non-null     object\n",
      " 1   id                      20 non-null     int64 \n",
      " 2   height                  20 non-null     int64 \n",
      " 3   average_height_parents  20 non-null     int64 \n",
      " 4   gender                  20 non-null     object\n",
      "dtypes: int64(3), object(2)\n",
      "memory usage: 928.0+ bytes\n"
     ]
    }
   ],
   "source": [
    "df.info()"
   ]
  },
  {
   "cell_type": "markdown",
   "metadata": {
    "slideshow": {
     "slide_type": "slide"
    }
   },
   "source": [
    "### Data corrections"
   ]
  },
  {
   "cell_type": "code",
   "execution_count": 20,
   "metadata": {
    "slideshow": {
     "slide_type": "slide"
    }
   },
   "outputs": [],
   "source": [
    "df[\"name\"] = df[\"name\"].astype(\"category\")\n",
    "df[\"gender\"] = df[\"gender\"].astype(\"category\")\n",
    "df[\"id\"] = df[\"id\"].astype(\"category\")"
   ]
  },
  {
   "cell_type": "markdown",
   "metadata": {
    "slideshow": {
     "slide_type": "slide"
    }
   },
   "source": [
    "## Analysis"
   ]
  },
  {
   "cell_type": "markdown",
   "metadata": {
    "slideshow": {
     "slide_type": "slide"
    }
   },
   "source": [
    "### Regular pairplot"
   ]
  },
  {
   "cell_type": "code",
   "execution_count": 26,
   "metadata": {},
   "outputs": [
    {
     "data": {
      "text/html": [
       "\n",
       "<div id=\"altair-viz-197dbbe2ad7743b58942ecc5508f0f7a\"></div>\n",
       "<script type=\"text/javascript\">\n",
       "  var VEGA_DEBUG = (typeof VEGA_DEBUG == \"undefined\") ? {} : VEGA_DEBUG;\n",
       "  (function(spec, embedOpt){\n",
       "    let outputDiv = document.currentScript.previousElementSibling;\n",
       "    if (outputDiv.id !== \"altair-viz-197dbbe2ad7743b58942ecc5508f0f7a\") {\n",
       "      outputDiv = document.getElementById(\"altair-viz-197dbbe2ad7743b58942ecc5508f0f7a\");\n",
       "    }\n",
       "    const paths = {\n",
       "      \"vega\": \"https://cdn.jsdelivr.net/npm//vega@5?noext\",\n",
       "      \"vega-lib\": \"https://cdn.jsdelivr.net/npm//vega-lib?noext\",\n",
       "      \"vega-lite\": \"https://cdn.jsdelivr.net/npm//vega-lite@4.17.0?noext\",\n",
       "      \"vega-embed\": \"https://cdn.jsdelivr.net/npm//vega-embed@6?noext\",\n",
       "    };\n",
       "\n",
       "    function maybeLoadScript(lib, version) {\n",
       "      var key = `${lib.replace(\"-\", \"\")}_version`;\n",
       "      return (VEGA_DEBUG[key] == version) ?\n",
       "        Promise.resolve(paths[lib]) :\n",
       "        new Promise(function(resolve, reject) {\n",
       "          var s = document.createElement('script');\n",
       "          document.getElementsByTagName(\"head\")[0].appendChild(s);\n",
       "          s.async = true;\n",
       "          s.onload = () => {\n",
       "            VEGA_DEBUG[key] = version;\n",
       "            return resolve(paths[lib]);\n",
       "          };\n",
       "          s.onerror = () => reject(`Error loading script: ${paths[lib]}`);\n",
       "          s.src = paths[lib];\n",
       "        });\n",
       "    }\n",
       "\n",
       "    function showError(err) {\n",
       "      outputDiv.innerHTML = `<div class=\"error\" style=\"color:red;\">${err}</div>`;\n",
       "      throw err;\n",
       "    }\n",
       "\n",
       "    function displayChart(vegaEmbed) {\n",
       "      vegaEmbed(outputDiv, spec, embedOpt)\n",
       "        .catch(err => showError(`Javascript Error: ${err.message}<br>This usually means there's a typo in your chart specification. See the javascript console for the full traceback.`));\n",
       "    }\n",
       "\n",
       "    if(typeof define === \"function\" && define.amd) {\n",
       "      requirejs.config({paths});\n",
       "      require([\"vega-embed\"], displayChart, err => showError(`Error loading script: ${err.message}`));\n",
       "    } else {\n",
       "      maybeLoadScript(\"vega\", \"5\")\n",
       "        .then(() => maybeLoadScript(\"vega-lite\", \"4.17.0\"))\n",
       "        .then(() => maybeLoadScript(\"vega-embed\", \"6\"))\n",
       "        .catch(showError)\n",
       "        .then(() => displayChart(vegaEmbed));\n",
       "    }\n",
       "  })({\"config\": {\"view\": {\"continuousWidth\": 400, \"continuousHeight\": 300}}, \"repeat\": {\"column\": [\"average_height_parents\", \"height\"], \"row\": [\"height\", \"average_height_parents\"]}, \"spec\": {\"data\": {\"name\": \"data-2051e5cb435af6ca686de982c4564449\"}, \"mark\": \"circle\", \"encoding\": {\"x\": {\"field\": {\"repeat\": \"column\"}, \"scale\": {\"zero\": false}, \"type\": \"quantitative\"}, \"y\": {\"field\": {\"repeat\": \"row\"}, \"scale\": {\"zero\": false}, \"type\": \"quantitative\"}}, \"height\": 150, \"width\": 150}, \"$schema\": \"https://vega.github.io/schema/vega-lite/v4.17.0.json\", \"datasets\": {\"data-2051e5cb435af6ca686de982c4564449\": [{\"name\": \"Stefanie\", \"id\": 1, \"height\": 162, \"average_height_parents\": 161, \"gender\": \"female\"}, {\"name\": \"Peter\", \"id\": 2, \"height\": 163, \"average_height_parents\": 163, \"gender\": \"male\"}, {\"name\": \"Stefanie\", \"id\": 3, \"height\": 163, \"average_height_parents\": 163, \"gender\": \"female\"}, {\"name\": \"Manuela\", \"id\": 4, \"height\": 164, \"average_height_parents\": 165, \"gender\": \"female\"}, {\"name\": \"Simon\", \"id\": 5, \"height\": 164, \"average_height_parents\": 163, \"gender\": \"male\"}, {\"name\": \"Sophia\", \"id\": 6, \"height\": 164, \"average_height_parents\": 164, \"gender\": \"female\"}, {\"name\": \"Ellen\", \"id\": 7, \"height\": 164, \"average_height_parents\": 164, \"gender\": \"female\"}, {\"name\": \"Emilia\", \"id\": 8, \"height\": 165, \"average_height_parents\": 165, \"gender\": \"female\"}, {\"name\": \"Lina\", \"id\": 9, \"height\": 165, \"average_height_parents\": 165, \"gender\": \"female\"}, {\"name\": \"Marie\", \"id\": 10, \"height\": 165, \"average_height_parents\": 165, \"gender\": \"female\"}, {\"name\": \"Lena\", \"id\": 11, \"height\": 165, \"average_height_parents\": 166, \"gender\": \"female\"}, {\"name\": \"Mila\", \"id\": 12, \"height\": 165, \"average_height_parents\": 167, \"gender\": \"female\"}, {\"name\": \"Fin\", \"id\": 13, \"height\": 165, \"average_height_parents\": 165, \"gender\": \"male\"}, {\"name\": \"Eric\", \"id\": 14, \"height\": 166, \"average_height_parents\": 166, \"gender\": \"male\"}, {\"name\": \"Pia\", \"id\": 15, \"height\": 166, \"average_height_parents\": 166, \"gender\": \"female\"}, {\"name\": \"Marc\", \"id\": 16, \"height\": 166, \"average_height_parents\": 166, \"gender\": \"male\"}, {\"name\": \"Ralph\", \"id\": 17, \"height\": 166, \"average_height_parents\": 166, \"gender\": \"male\"}, {\"name\": \"Tom\", \"id\": 18, \"height\": 167, \"average_height_parents\": 166, \"gender\": \"male\"}, {\"name\": \"Steven\", \"id\": 19, \"height\": 167, \"average_height_parents\": 167, \"gender\": \"male\"}, {\"name\": \"Emanuel\", \"id\": 20, \"height\": 168, \"average_height_parents\": 168, \"gender\": \"male\"}]}}, {\"mode\": \"vega-lite\"});\n",
       "</script>"
      ],
      "text/plain": [
       "alt.RepeatChart(...)"
      ]
     },
     "execution_count": 26,
     "metadata": {},
     "output_type": "execute_result"
    }
   ],
   "source": [
    "alt.Chart(df).mark_circle().encode(\n",
    "    x=alt.X(alt.repeat(\"column\"), \n",
    "            type='quantitative',\n",
    "            scale=alt.Scale(zero=False)\n",
    "            ),\n",
    "    y=alt.Y(alt.repeat(\"row\"), \n",
    "            type='quantitative',\n",
    "             scale=alt.Scale(zero=False)\n",
    "             )\n",
    ").properties(\n",
    "    width=150,\n",
    "    height=150\n",
    ").repeat(\n",
    "    row=['height', 'average_height_parents'],\n",
    "    column=['average_height_parents', 'height']\n",
    ")"
   ]
  },
  {
   "cell_type": "markdown",
   "metadata": {
    "slideshow": {
     "slide_type": "slide"
    }
   },
   "source": [
    "### With categorical variable"
   ]
  },
  {
   "cell_type": "code",
   "execution_count": 29,
   "metadata": {
    "slideshow": {
     "slide_type": "slide"
    }
   },
   "outputs": [
    {
     "data": {
      "text/html": [
       "\n",
       "<div id=\"altair-viz-e78a39572b2f44b3a040473431ee491a\"></div>\n",
       "<script type=\"text/javascript\">\n",
       "  var VEGA_DEBUG = (typeof VEGA_DEBUG == \"undefined\") ? {} : VEGA_DEBUG;\n",
       "  (function(spec, embedOpt){\n",
       "    let outputDiv = document.currentScript.previousElementSibling;\n",
       "    if (outputDiv.id !== \"altair-viz-e78a39572b2f44b3a040473431ee491a\") {\n",
       "      outputDiv = document.getElementById(\"altair-viz-e78a39572b2f44b3a040473431ee491a\");\n",
       "    }\n",
       "    const paths = {\n",
       "      \"vega\": \"https://cdn.jsdelivr.net/npm//vega@5?noext\",\n",
       "      \"vega-lib\": \"https://cdn.jsdelivr.net/npm//vega-lib?noext\",\n",
       "      \"vega-lite\": \"https://cdn.jsdelivr.net/npm//vega-lite@4.17.0?noext\",\n",
       "      \"vega-embed\": \"https://cdn.jsdelivr.net/npm//vega-embed@6?noext\",\n",
       "    };\n",
       "\n",
       "    function maybeLoadScript(lib, version) {\n",
       "      var key = `${lib.replace(\"-\", \"\")}_version`;\n",
       "      return (VEGA_DEBUG[key] == version) ?\n",
       "        Promise.resolve(paths[lib]) :\n",
       "        new Promise(function(resolve, reject) {\n",
       "          var s = document.createElement('script');\n",
       "          document.getElementsByTagName(\"head\")[0].appendChild(s);\n",
       "          s.async = true;\n",
       "          s.onload = () => {\n",
       "            VEGA_DEBUG[key] = version;\n",
       "            return resolve(paths[lib]);\n",
       "          };\n",
       "          s.onerror = () => reject(`Error loading script: ${paths[lib]}`);\n",
       "          s.src = paths[lib];\n",
       "        });\n",
       "    }\n",
       "\n",
       "    function showError(err) {\n",
       "      outputDiv.innerHTML = `<div class=\"error\" style=\"color:red;\">${err}</div>`;\n",
       "      throw err;\n",
       "    }\n",
       "\n",
       "    function displayChart(vegaEmbed) {\n",
       "      vegaEmbed(outputDiv, spec, embedOpt)\n",
       "        .catch(err => showError(`Javascript Error: ${err.message}<br>This usually means there's a typo in your chart specification. See the javascript console for the full traceback.`));\n",
       "    }\n",
       "\n",
       "    if(typeof define === \"function\" && define.amd) {\n",
       "      requirejs.config({paths});\n",
       "      require([\"vega-embed\"], displayChart, err => showError(`Error loading script: ${err.message}`));\n",
       "    } else {\n",
       "      maybeLoadScript(\"vega\", \"5\")\n",
       "        .then(() => maybeLoadScript(\"vega-lite\", \"4.17.0\"))\n",
       "        .then(() => maybeLoadScript(\"vega-embed\", \"6\"))\n",
       "        .catch(showError)\n",
       "        .then(() => displayChart(vegaEmbed));\n",
       "    }\n",
       "  })({\"config\": {\"view\": {\"continuousWidth\": 400, \"continuousHeight\": 300}}, \"repeat\": {\"column\": [\"average_height_parents\", \"height\"], \"row\": [\"height\", \"average_height_parents\"]}, \"spec\": {\"data\": {\"name\": \"data-2051e5cb435af6ca686de982c4564449\"}, \"mark\": {\"type\": \"circle\", \"opacity\": 0.5}, \"encoding\": {\"color\": {\"field\": \"gender\", \"type\": \"nominal\"}, \"x\": {\"field\": {\"repeat\": \"column\"}, \"scale\": {\"zero\": false}, \"type\": \"quantitative\"}, \"y\": {\"field\": {\"repeat\": \"row\"}, \"scale\": {\"zero\": false}, \"type\": \"quantitative\"}}, \"height\": 150, \"width\": 150}, \"$schema\": \"https://vega.github.io/schema/vega-lite/v4.17.0.json\", \"datasets\": {\"data-2051e5cb435af6ca686de982c4564449\": [{\"name\": \"Stefanie\", \"id\": 1, \"height\": 162, \"average_height_parents\": 161, \"gender\": \"female\"}, {\"name\": \"Peter\", \"id\": 2, \"height\": 163, \"average_height_parents\": 163, \"gender\": \"male\"}, {\"name\": \"Stefanie\", \"id\": 3, \"height\": 163, \"average_height_parents\": 163, \"gender\": \"female\"}, {\"name\": \"Manuela\", \"id\": 4, \"height\": 164, \"average_height_parents\": 165, \"gender\": \"female\"}, {\"name\": \"Simon\", \"id\": 5, \"height\": 164, \"average_height_parents\": 163, \"gender\": \"male\"}, {\"name\": \"Sophia\", \"id\": 6, \"height\": 164, \"average_height_parents\": 164, \"gender\": \"female\"}, {\"name\": \"Ellen\", \"id\": 7, \"height\": 164, \"average_height_parents\": 164, \"gender\": \"female\"}, {\"name\": \"Emilia\", \"id\": 8, \"height\": 165, \"average_height_parents\": 165, \"gender\": \"female\"}, {\"name\": \"Lina\", \"id\": 9, \"height\": 165, \"average_height_parents\": 165, \"gender\": \"female\"}, {\"name\": \"Marie\", \"id\": 10, \"height\": 165, \"average_height_parents\": 165, \"gender\": \"female\"}, {\"name\": \"Lena\", \"id\": 11, \"height\": 165, \"average_height_parents\": 166, \"gender\": \"female\"}, {\"name\": \"Mila\", \"id\": 12, \"height\": 165, \"average_height_parents\": 167, \"gender\": \"female\"}, {\"name\": \"Fin\", \"id\": 13, \"height\": 165, \"average_height_parents\": 165, \"gender\": \"male\"}, {\"name\": \"Eric\", \"id\": 14, \"height\": 166, \"average_height_parents\": 166, \"gender\": \"male\"}, {\"name\": \"Pia\", \"id\": 15, \"height\": 166, \"average_height_parents\": 166, \"gender\": \"female\"}, {\"name\": \"Marc\", \"id\": 16, \"height\": 166, \"average_height_parents\": 166, \"gender\": \"male\"}, {\"name\": \"Ralph\", \"id\": 17, \"height\": 166, \"average_height_parents\": 166, \"gender\": \"male\"}, {\"name\": \"Tom\", \"id\": 18, \"height\": 167, \"average_height_parents\": 166, \"gender\": \"male\"}, {\"name\": \"Steven\", \"id\": 19, \"height\": 167, \"average_height_parents\": 167, \"gender\": \"male\"}, {\"name\": \"Emanuel\", \"id\": 20, \"height\": 168, \"average_height_parents\": 168, \"gender\": \"male\"}]}}, {\"mode\": \"vega-lite\"});\n",
       "</script>"
      ],
      "text/plain": [
       "alt.RepeatChart(...)"
      ]
     },
     "execution_count": 29,
     "metadata": {},
     "output_type": "execute_result"
    }
   ],
   "source": [
    "alt.Chart(df).mark_circle(opacity=0.5).encode(\n",
    "    x=alt.X(alt.repeat(\"column\"), \n",
    "            type='quantitative',\n",
    "            scale=alt.Scale(zero=False)\n",
    "            ),\n",
    "    y=alt.Y(alt.repeat(\"row\"), \n",
    "            type='quantitative',\n",
    "             scale=alt.Scale(zero=False)\n",
    "             ),\n",
    "    color=alt.Color('gender')\n",
    ").properties(\n",
    "    width=150,\n",
    "    height=150\n",
    ").repeat(\n",
    "    row=['height', 'average_height_parents'],\n",
    "    column=['average_height_parents', 'height']\n",
    ")"
   ]
  }
 ],
 "metadata": {
  "celltoolbar": "Slideshow",
  "kernelspec": {
   "display_name": "Python 3.9.13 ('webscraping')",
   "language": "python",
   "name": "python3"
  },
  "language_info": {
   "codemirror_mode": {
    "name": "ipython",
    "version": 3
   },
   "file_extension": ".py",
   "mimetype": "text/x-python",
   "name": "python",
   "nbconvert_exporter": "python",
   "pygments_lexer": "ipython3",
   "version": "3.9.13"
  },
  "varInspector": {
   "cols": {
    "lenName": 16,
    "lenType": 16,
    "lenVar": 40
   },
   "kernels_config": {
    "python": {
     "delete_cmd_postfix": "",
     "delete_cmd_prefix": "del ",
     "library": "var_list.py",
     "varRefreshCmd": "print(var_dic_list())"
    },
    "r": {
     "delete_cmd_postfix": ") ",
     "delete_cmd_prefix": "rm(",
     "library": "var_list.r",
     "varRefreshCmd": "cat(var_dic_list()) "
    }
   },
   "types_to_exclude": [
    "module",
    "function",
    "builtin_function_or_method",
    "instance",
    "_Feature"
   ],
   "window_display": false
  },
  "vscode": {
   "interpreter": {
    "hash": "147de23312147813b0623f895fe208f672aacb131d01c672b840a7a22f97849e"
   }
  }
 },
 "nbformat": 4,
 "nbformat_minor": 2
}
