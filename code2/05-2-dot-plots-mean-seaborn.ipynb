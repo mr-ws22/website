{
 "cells": [
  {
   "cell_type": "markdown",
   "metadata": {
    "slideshow": {
     "slide_type": "slide"
    }
   },
   "source": [
    "# Dot plots and the mean"
   ]
  },
  {
   "cell_type": "markdown",
   "metadata": {
    "slideshow": {
     "slide_type": "slide"
    }
   },
   "source": [
    "## Python setup"
   ]
  },
  {
   "cell_type": "code",
   "execution_count": 8,
   "metadata": {
    "slideshow": {
     "slide_type": "fragment"
    }
   },
   "outputs": [],
   "source": [
    "# Setup\n",
    "%matplotlib inline\n",
    "import pandas as pd\n",
    "import seaborn as sns \n",
    "import matplotlib.pyplot as plt\n",
    "import matplotlib.ticker as ticker\n",
    "\n",
    "# Custom colors\n",
    "blue = \"#3F83F4\"\n",
    "blue_dark = \"#062089\"\n",
    "blue_light = \"#8DC0F6\"\n",
    "blue_lighter = \"#BBE4FA\"\n",
    "grey = \"#9C9C9C\"\n",
    "grey_dark = \"#777777\"\n",
    "grey_light = \"#B2B2B2\"\n",
    "orange = \"#EF8733\"\n",
    "colors_blue = [blue, blue_light]"
   ]
  },
  {
   "cell_type": "markdown",
   "metadata": {
    "slideshow": {
     "slide_type": "slide"
    }
   },
   "source": [
    "## Import data"
   ]
  },
  {
   "cell_type": "code",
   "execution_count": 9,
   "metadata": {
    "slideshow": {
     "slide_type": "fragment"
    }
   },
   "outputs": [],
   "source": [
    "ROOT = \"https://raw.githubusercontent.com/kirenz/modern-statistics/main/data/\"\n",
    "DATA = \"loan50.csv\"\n",
    "\n",
    "df = pd.read_csv(ROOT + DATA)\n",
    "\n",
    "# We round values for our dot plot\n",
    "df[\"interest_rate\"] = df[\"interest_rate\"].astype(\"int64\")"
   ]
  },
  {
   "cell_type": "markdown",
   "metadata": {
    "slideshow": {
     "slide_type": "slide"
    }
   },
   "source": [
    "## Dot plot\n",
    "\n",
    "A dot plot of interest rate for the loan50 dataset. The rates have been rounded."
   ]
  },
  {
   "cell_type": "code",
   "execution_count": 10,
   "metadata": {
    "slideshow": {
     "slide_type": "slide"
    }
   },
   "outputs": [],
   "source": [
    "import numpy as np\n",
    "\n",
    "# Prepara data\n",
    "mean = df[\"interest_rate\"].mean()\n",
    "interest_rate = df[\"interest_rate\"]\n",
    "values, counts = np.unique(interest_rate, return_counts=True)"
   ]
  },
  {
   "cell_type": "code",
   "execution_count": 11,
   "metadata": {
    "slideshow": {
     "slide_type": "slide"
    }
   },
   "outputs": [
    {
     "data": {
      "image/png": "[encoded data removed]",
      "text/plain": [
       "<Figure size 432x216 with 1 Axes>"
      ]
     },
     "metadata": {},
     "output_type": "display_data"
    }
   ],
   "source": [
    "# Create dot plot\n",
    "fig, ax = plt.subplots(figsize=(6, 3))\n",
    "for value, count in zip(values, counts):\n",
    "    ax.plot([value]*count, list(range(count)), 'o', ms=10, linestyle='', color=blue)\n",
    "for spine in ['top', 'right', 'left']:\n",
    "    ax.spines[spine].set_visible(False)\n",
    "    \n",
    "# Define optics\n",
    "ax.yaxis.set_visible(False)\n",
    "ax.set_ylim(-1, max(counts))\n",
    "ax.spines['bottom'].set_color(grey)\n",
    "ax.set_xticks(range(min(values), max(values)+1))\n",
    "ax.tick_params(axis='x', length=0, pad=8, labelsize=8, colors=grey)\n",
    "# Label and anotation\n",
    "plt.xlabel(\"Interest rate (%)\", color=grey)\n",
    "\n",
    "plt.show();"
   ]
  },
  {
   "cell_type": "markdown",
   "metadata": {
    "slideshow": {
     "slide_type": "slide"
    }
   },
   "source": [
    "## Dot plot with mean\n"
   ]
  },
  {
   "cell_type": "code",
   "execution_count": 12,
   "metadata": {
    "slideshow": {
     "slide_type": "slide"
    }
   },
   "outputs": [
    {
     "data": {
      "image/png": "[encoded data removed]",
      "text/plain": [
       "<Figure size 432x216 with 1 Axes>"
      ]
     },
     "metadata": {},
     "output_type": "display_data"
    }
   ],
   "source": [
    "# Create dot plot\n",
    "fig, ax = plt.subplots(figsize=(6, 3))\n",
    "for value, count in zip(values, counts):\n",
    "    ax.plot([value]*count, list(range(count)), 'o', ms=10, linestyle='', color=blue)\n",
    "for spine in ['top', 'right', 'left']:\n",
    "    ax.spines[spine].set_visible(False)\n",
    "# Define optics\n",
    "ax.yaxis.set_visible(False)\n",
    "ax.set_ylim(-1, max(counts))\n",
    "ax.spines['bottom'].set_color(grey)\n",
    "ax.set_xticks(range(min(values), max(values)+1))\n",
    "ax.tick_params(axis='x', length=0, pad=8, labelsize=8, colors=grey)\n",
    "# Label and anotation\n",
    "plt.xlabel(\"Interest rate (%)\", color=grey)\n",
    "ax.plot(mean, 0, 'o', ms=10, color=orange)\n",
    "ax.annotate(text='Mean', xy=(mean-0.5, 3), color=orange)\n",
    "\n",
    "plt.show();"
   ]
  },
  {
   "cell_type": "code",
   "execution_count": 13,
   "metadata": {
    "slideshow": {
     "slide_type": "subslide"
    }
   },
   "outputs": [
    {
     "name": "stdout",
     "output_type": "stream",
     "text": [
      "11.04\n"
     ]
    }
   ],
   "source": [
    "print(mean)"
   ]
  },
  {
   "cell_type": "markdown",
   "metadata": {
    "slideshow": {
     "slide_type": "subslide"
    }
   },
   "source": [
    "The sample mean can be calculated as the sum of the observed values divided by the number of observations:  \n",
    "\n",
    "\n",
    "$$ \\bar{x} = \\frac{x_1 + x_2 + \\cdots + x_n}{n} $$"
   ]
  },
  {
   "cell_type": "markdown",
   "metadata": {
    "slideshow": {
     "slide_type": "slide"
    }
   },
   "source": [
    "## Asthma example\n",
    "\n",
    "Results of a trial of 1500 adults that suffer from asthma;"
   ]
  },
  {
   "cell_type": "code",
   "execution_count": 14,
   "metadata": {
    "slideshow": {
     "slide_type": "slide"
    }
   },
   "outputs": [
    {
     "data": {
      "text/html": [
       "<div>\n",
       "<style scoped>\n",
       "    .dataframe tbody tr th:only-of-type {\n",
       "        vertical-align: middle;\n",
       "    }\n",
       "\n",
       "    .dataframe tbody tr th {\n",
       "        vertical-align: top;\n",
       "    }\n",
       "\n",
       "    .dataframe thead th {\n",
       "        text-align: right;\n",
       "    }\n",
       "</style>\n",
       "<table border=\"1\" class=\"dataframe\">\n",
       "  <thead>\n",
       "    <tr style=\"text-align: right;\">\n",
       "      <th></th>\n",
       "      <th>Description</th>\n",
       "      <th>New drug</th>\n",
       "      <th>Standard drug</th>\n",
       "    </tr>\n",
       "  </thead>\n",
       "  <tbody>\n",
       "    <tr>\n",
       "      <th>0</th>\n",
       "      <td>Number of patients</td>\n",
       "      <td>500</td>\n",
       "      <td>1000</td>\n",
       "    </tr>\n",
       "    <tr>\n",
       "      <th>1</th>\n",
       "      <td>Total asthma attacks</td>\n",
       "      <td>200</td>\n",
       "      <td>300</td>\n",
       "    </tr>\n",
       "  </tbody>\n",
       "</table>\n",
       "</div>"
      ],
      "text/plain": [
       "            Description  New drug  Standard drug\n",
       "0    Number of patients       500           1000\n",
       "1  Total asthma attacks       200            300"
      ]
     },
     "execution_count": 14,
     "metadata": {},
     "output_type": "execute_result"
    }
   ],
   "source": [
    "d= {'Description': [\"Number of patients\", \"Total asthma attacks\"], 'New drug': [500, 200], 'Standard drug': [1000, 300]}\n",
    "drug_asthma = pd.DataFrame(data=d)\n",
    "drug_asthma"
   ]
  },
  {
   "cell_type": "code",
   "execution_count": 15,
   "metadata": {
    "slideshow": {
     "slide_type": "subslide"
    }
   },
   "outputs": [
    {
     "name": "stdout",
     "output_type": "stream",
     "text": [
      "New drug: 200/500 =  0.4 asthma attacks per patient\n",
      "Standard drug: 300/1000 =  0.3 asthma attacks per patient\n"
     ]
    }
   ],
   "source": [
    "# Asthma attacks per patients\n",
    "new_drug = 200/500\n",
    "standard_drug = 300/1000\n",
    "\n",
    "print(\"New drug: 200/500 = \", new_drug, \"asthma attacks per patient\")\n",
    "print(\"Standard drug: 300/1000 = \", standard_drug, \"asthma attacks per patient\")\n"
   ]
  },
  {
   "cell_type": "markdown",
   "metadata": {
    "slideshow": {
     "slide_type": "slide"
    }
   },
   "source": [
    "## County example"
   ]
  },
  {
   "cell_type": "code",
   "execution_count": 16,
   "metadata": {
    "slideshow": {
     "slide_type": "fragment"
    }
   },
   "outputs": [],
   "source": [
    "ROOT = \"https://raw.githubusercontent.com/kirenz/modern-statistics/main/data/\"\n",
    "DATA = \"county.csv\"\n",
    "\n",
    "df_county = pd.read_csv(ROOT + DATA)"
   ]
  },
  {
   "cell_type": "code",
   "execution_count": 17,
   "metadata": {
    "slideshow": {
     "slide_type": "slide"
    }
   },
   "outputs": [
    {
     "data": {
      "image/png": "[encoded data removed]",
      "text/plain": [
       "<Figure size 432x288 with 1 Axes>"
      ]
     },
     "metadata": {},
     "output_type": "display_data"
    }
   ],
   "source": [
    "sns.set_style(\"whitegrid\", {'axes.grid' : False})\n",
    "fig, ax = plt.subplots()\n",
    "\n",
    "sns.scatterplot(data=df_county, x=\"pop2017\", y= \"per_capita_income\", palette=colors_blue, alpha=0.4)\n",
    "\n",
    "ax.set_xscale('log')\n",
    "ax.yaxis.set_major_formatter('{x:1.0f} k $')\n",
    "ax.yaxis.set_major_formatter(ticker.EngFormatter(' $'))\n",
    "ax.yaxis.set_tick_params(which='major', labelcolor='grey', labelleft=True)\n",
    "ax.xaxis.set_major_formatter(ticker.EngFormatter(''))\n",
    "ax.xaxis.set_tick_params(which='major', labelcolor='grey')  \n",
    "plt.ylabel(\"Per capita income\")\n",
    "plt.xlabel(\"Population\")\n",
    "sns.despine()\n",
    "\n",
    "plt.show();"
   ]
  }
 ],
 "metadata": {
  "celltoolbar": "Slideshow",
  "interpreter": {
   "hash": "d361e8bd3ab8be8f3ea65790adb41c2b64f49b1477d0d1af835155fecf213182"
  },
  "kernelspec": {
   "display_name": "Python 3 (ipykernel)",
   "language": "python",
   "name": "python3"
  },
  "language_info": {
   "codemirror_mode": {
    "name": "ipython",
    "version": 3
   },
   "file_extension": ".py",
   "mimetype": "text/x-python",
   "name": "python",
   "nbconvert_exporter": "python",
   "pygments_lexer": "ipython3",
   "version": "3.8.2"
  },
  "varInspector": {
   "cols": {
    "lenName": 16,
    "lenType": 16,
    "lenVar": 40
   },
   "kernels_config": {
    "python": {
     "delete_cmd_postfix": "",
     "delete_cmd_prefix": "del ",
     "library": "var_list.py",
     "varRefreshCmd": "print(var_dic_list())"
    },
    "r": {
     "delete_cmd_postfix": ") ",
     "delete_cmd_prefix": "rm(",
     "library": "var_list.r",
     "varRefreshCmd": "cat(var_dic_list()) "
    }
   },
   "types_to_exclude": [
    "module",
    "function",
    "builtin_function_or_method",
    "instance",
    "_Feature"
   ],
   "window_display": false
  }
 },
 "nbformat": 4,
 "nbformat_minor": 2
}
