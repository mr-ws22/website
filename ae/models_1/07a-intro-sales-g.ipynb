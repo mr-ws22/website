{
 "cells": [
  {
   "cell_type": "markdown",
   "metadata": {},
   "source": [
    "**Important notes:**\n",
    "\n",
    "**Important notes:**\n",
    "\n",
    "- You can complete this exercise in 1) Colab or 2) on your local machine\n",
    "  1. **Colab**: Click on the 🚀 symbol at the top of the page and select Colab. When you finished the exercise, download the file: `File` > `Download` > `ipynb`. \n",
    "  2. **Local**: click on the download button at the top of the page and choose `.ipynb`. Activate the conda environment `mr` before you start: `conda activate mr`\n",
    "\n",
    "\n",
    "- Don't change the name of the file and don't delete any cells.\n",
    "\n",
    "\n",
    "- Make sure you fill in any place that says  <font color='green'> \\# YOUR CODE HERE </font> or \"YOUR ANSWER HERE\", as well as your name and (if necessary) collaborators below.\n",
    "\n",
    "\n",
    "- The function **NotImplementedError()** prevents you from hand in assignments with empty cells. Simply delete the function if you start working on a cell with this entry.\n",
    "\n",
    "\n",
    "- Before you turn this problem in (i.e., after you completed all tasks), make sure everything runs as expected: Restart the kernel and run all cells:\n",
    "  - in *Colab*: in the menubar, select `Runtime` and click on `Restart and run all`\n",
    "  - if you use *Jupyter Notebook*: in the menubar, select `Kernel` and click on `Restart & Run All`\n",
    "  - if you use *Visual Studio Code*: select \"Restart\" and then \"Run All\" \n",
    "\n",
    "\n",
    "Good luck!"
   ]
  },
  {
   "cell_type": "code",
   "execution_count": null,
   "metadata": {},
   "outputs": [],
   "source": [
    "NAME = \"\"\n",
    "COLLABORATORS = \"\""
   ]
  },
  {
   "cell_type": "code",
   "execution_count": null,
   "metadata": {},
   "outputs": [],
   "source": [
    "import IPython\n",
    "assert IPython.version_info[0] >= 3, \"Your version of IPython is too old, please update it.\""
   ]
  },
  {
   "cell_type": "markdown",
   "metadata": {},
   "source": [
    "---"
   ]
  },
  {
   "cell_type": "markdown",
   "metadata": {
    "slideshow": {
     "slide_type": "slide"
    }
   },
   "source": [
    "# Introduction to linear regression"
   ]
  },
  {
   "cell_type": "markdown",
   "metadata": {
    "slideshow": {
     "slide_type": "slide"
    }
   },
   "source": [
    "## Setup"
   ]
  },
  {
   "cell_type": "code",
   "execution_count": null,
   "metadata": {
    "slideshow": {
     "slide_type": "fragment"
    }
   },
   "outputs": [],
   "source": [
    "import pandas as pd\n",
    "import altair as alt\n",
    "import warnings\n",
    "\n",
    "warnings.simplefilter(action='ignore', category=FutureWarning)\n",
    "alt.data_transformers.disable_max_rows()"
   ]
  },
  {
   "cell_type": "markdown",
   "metadata": {
    "slideshow": {
     "slide_type": "slide"
    }
   },
   "source": [
    "## Data\n",
    "\n",
    "We create our own data:"
   ]
  },
  {
   "cell_type": "markdown",
   "metadata": {
    "slideshow": {
     "slide_type": "slide"
    }
   },
   "source": [
    "### Create data"
   ]
  },
  {
   "cell_type": "code",
   "execution_count": null,
   "metadata": {
    "slideshow": {
     "slide_type": "fragment"
    }
   },
   "outputs": [],
   "source": [
    "df = pd.DataFrame(\n",
    "    {'sales': [2500, 4500, 6500, 8500, 10500, 12500, 14500, 16500, 18500, 20500],\n",
    "      'ads'  : [1000, 2000, 3000, 4000, 5000, 6000, 7000, 8000, 9000, 10000]}\n",
    ")"
   ]
  },
  {
   "cell_type": "markdown",
   "metadata": {
    "slideshow": {
     "slide_type": "slide"
    }
   },
   "source": [
    "### Data structure"
   ]
  },
  {
   "cell_type": "code",
   "execution_count": null,
   "metadata": {
    "slideshow": {
     "slide_type": "subslide"
    }
   },
   "outputs": [],
   "source": [
    "df"
   ]
  },
  {
   "cell_type": "markdown",
   "metadata": {
    "slideshow": {
     "slide_type": "fragment"
    }
   },
   "source": [
    "*Do you recognize a relationship between the two variables?*"
   ]
  },
  {
   "cell_type": "code",
   "execution_count": null,
   "metadata": {
    "slideshow": {
     "slide_type": "subslide"
    }
   },
   "outputs": [],
   "source": [
    "df.info()"
   ]
  },
  {
   "cell_type": "markdown",
   "metadata": {
    "slideshow": {
     "slide_type": "slide"
    }
   },
   "source": [
    "## Analysis\n",
    "\n",
    "Show the relationship between the variables:"
   ]
  },
  {
   "cell_type": "code",
   "execution_count": null,
   "metadata": {
    "slideshow": {
     "slide_type": "subslide"
    }
   },
   "outputs": [],
   "source": [
    "chart = alt.Chart(df).mark_point().encode(\n",
    "   x=alt.X('ads', axis=alt.Axis(title='Ads (in $)')),\n",
    "   y=alt.Y('sales', axis=alt.Axis(title=\"Sales (in units)\")),\n",
    "   tooltip=['ads', 'sales']\n",
    ").interactive()\n",
    "\n",
    "chart"
   ]
  },
  {
   "cell_type": "markdown",
   "metadata": {
    "slideshow": {
     "slide_type": "slide"
    }
   },
   "source": [
    "## Model"
   ]
  },
  {
   "cell_type": "markdown",
   "metadata": {
    "slideshow": {
     "slide_type": "slide"
    }
   },
   "source": [
    "Let's take a closer look at ad spendings of 2000. What is the value of sales you would expect?"
   ]
  },
  {
   "cell_type": "code",
   "execution_count": null,
   "metadata": {
    "slideshow": {
     "slide_type": "subslide"
    }
   },
   "outputs": [],
   "source": [
    "callout = alt.Chart(df.iloc[1:2]).mark_point(\n",
    "    color='red', size=300, tooltip=\"Ads = 2000, Sales = 4500\"\n",
    ").encode(\n",
    "    x=alt.X('ads', axis=alt.Axis(title='Ads (in $)')),\n",
    "    y=alt.Y('sales', axis=alt.Axis(title=\"Sales (in units)\"))\n",
    ")\n",
    "\n",
    "chart + callout"
   ]
  },
  {
   "cell_type": "markdown",
   "metadata": {
    "slideshow": {
     "slide_type": "slide"
    }
   },
   "source": [
    "### Prediction"
   ]
  },
  {
   "cell_type": "markdown",
   "metadata": {
    "slideshow": {
     "slide_type": "slide"
    }
   },
   "source": [
    "What is your sales prediction for tv ad spendings of 2000?\n",
    "\n",
    "- calculate a prediction for sales using ad spendings of 2000\n",
    "- in your code, use the variables `number_0` and `number_1` to obtain your prediction\n",
    "- save the result as `sales_prediction`\n",
    "\n",
    "Hint:\n",
    "\n",
    "---\n",
    "\n",
    "```python\n",
    "\n",
    "number_0 = ___\n",
    "number_1 = ___\n",
    "ad_spendings = ___\n",
    "\n",
    "sales_prediction = number_0 + number_1 * ad_spendings\n",
    "\n",
    "```\n",
    "\n",
    "---"
   ]
  },
  {
   "cell_type": "code",
   "execution_count": null,
   "metadata": {
    "deletable": false,
    "nbgrader": {
     "cell_type": "code",
     "checksum": "acbb2eded1cbb6186820f4d4b0972258",
     "grade": false,
     "grade_id": "model",
     "locked": false,
     "schema_version": 3,
     "solution": true,
     "task": false
    },
    "slideshow": {
     "slide_type": "subslide"
    }
   },
   "outputs": [],
   "source": [
    "# YOUR CODE HERE\n",
    "raise NotImplementedError()"
   ]
  },
  {
   "cell_type": "code",
   "execution_count": null,
   "metadata": {
    "deletable": false,
    "editable": false,
    "nbgrader": {
     "cell_type": "code",
     "checksum": "0b239e7ab7fb701cb1675821a8a7beea",
     "grade": true,
     "grade_id": "c-model",
     "locked": true,
     "points": 2,
     "schema_version": 3,
     "solution": false,
     "task": false
    },
    "slideshow": {
     "slide_type": "subslide"
    }
   },
   "outputs": [],
   "source": [
    "# check your code\n",
    "assert 4000 <= sales_prediction <= 5000"
   ]
  },
  {
   "cell_type": "markdown",
   "metadata": {
    "slideshow": {
     "slide_type": "slide"
    }
   },
   "source": [
    "Next, use your solution to make your calculations within pandas for every value of ad spendings (`ads`) and save the result in your dataframe (as `sales_prediction`):\n",
    "\n",
    "Hint:\n",
    "\n",
    "---\n",
    "\n",
    "```python\n",
    "df['___'] = number_0 + number_1 * df['___'] \n",
    "```\n",
    "\n",
    "---\n",
    "\n",
    "- name the new column `sales_prediction`\n"
   ]
  },
  {
   "cell_type": "code",
   "execution_count": null,
   "metadata": {
    "deletable": false,
    "nbgrader": {
     "cell_type": "code",
     "checksum": "0774deedc8d567d1ee7b060b5788dbd4",
     "grade": false,
     "grade_id": "pred",
     "locked": false,
     "schema_version": 3,
     "solution": true,
     "task": false
    },
    "slideshow": {
     "slide_type": "subslide"
    }
   },
   "outputs": [],
   "source": [
    "# YOUR CODE HERE\n",
    "raise NotImplementedError()"
   ]
  },
  {
   "cell_type": "code",
   "execution_count": null,
   "metadata": {
    "deletable": false,
    "editable": false,
    "nbgrader": {
     "cell_type": "code",
     "checksum": "199abc586e605e700ff97e43ba59939f",
     "grade": true,
     "grade_id": "c-pred",
     "locked": true,
     "points": 2,
     "schema_version": 3,
     "solution": false,
     "task": false
    },
    "slideshow": {
     "slide_type": "subslide"
    }
   },
   "outputs": [],
   "source": [
    "# Check your code\n",
    "assert 2000 <= df.iloc[0, 2] <= 3000"
   ]
  },
  {
   "cell_type": "code",
   "execution_count": null,
   "metadata": {
    "slideshow": {
     "slide_type": "slide"
    }
   },
   "outputs": [],
   "source": [
    "df.head()"
   ]
  },
  {
   "cell_type": "markdown",
   "metadata": {
    "slideshow": {
     "slide_type": "slide"
    }
   },
   "source": [
    "Visualize predictions as a line"
   ]
  },
  {
   "cell_type": "code",
   "execution_count": null,
   "metadata": {
    "slideshow": {
     "slide_type": "subslide"
    }
   },
   "outputs": [],
   "source": [
    "line = alt.Chart(df).mark_line().encode(\n",
    "         alt.X('ads', axis=alt.Axis(title='Ads (in $)')),\n",
    "         alt.Y('sales_prediction', axis=alt.Axis(title=\"Sales (in units)\")),\n",
    "         color=alt.value(\"#0001F5\"))\n",
    "\n",
    "chart + line"
   ]
  },
  {
   "cell_type": "markdown",
   "metadata": {
    "slideshow": {
     "slide_type": "slide"
    }
   },
   "source": [
    "Next, we want to see where our blue line crosses the y axis. In other words, we need to include a value of `ads = 0` to our dataframe. \n",
    "\n",
    "Hint:\n",
    "\n",
    "---\n",
    "\n",
    "```python\n",
    "\n",
    "df_new = pd.DataFrame({\n",
    "    'ads': ___ , \n",
    "    'sales': ___, \n",
    "    'sales_prediction': ___ + ___ * ___\n",
    "    }, ___)\n",
    "\n",
    "___ = ___.___([___ , ___], ignore_index = ___)\n",
    "\n",
    "```\n",
    "\n",
    "---"
   ]
  },
  {
   "cell_type": "markdown",
   "metadata": {},
   "source": [
    "\n",
    "\n",
    "First, we create a new Dataframe called `df_new` with only one row: \n",
    "\n",
    "- the value for `ads` is `0` \n",
    "- we don't know the real value of `sales`: therefore, we write `None` (Pandas will transform this to `NaN`, which means \"Not a Number\") in this cell \n",
    "- we use our formula from above to obtain the value of `sales_prediction` (use the value of `0` for ads)\n",
    "- we need to manually include an index. Simply use `index=[0]`  \n",
    "\n",
    "Next, we need to append `df_new` to the end of or DataFrame object `df`:\n",
    "\n",
    "- use `pd.concat()` to combine `df` and `df_new` and save the result in `df` \n",
    "- we clear the existing index and reset it in the result by setting the `ignore_index` option to `True`.\n"
   ]
  },
  {
   "cell_type": "code",
   "execution_count": null,
   "metadata": {
    "deletable": false,
    "nbgrader": {
     "cell_type": "code",
     "checksum": "bec72947cb03c6cb8a716de05b0fe33d",
     "grade": false,
     "grade_id": "concat",
     "locked": false,
     "schema_version": 3,
     "solution": true,
     "task": false
    },
    "slideshow": {
     "slide_type": "slide"
    }
   },
   "outputs": [],
   "source": [
    "# YOUR CODE HERE\n",
    "raise NotImplementedError()"
   ]
  },
  {
   "cell_type": "code",
   "execution_count": null,
   "metadata": {
    "deletable": false,
    "editable": false,
    "nbgrader": {
     "cell_type": "code",
     "checksum": "3e777f4ded4b780333c9e3080360bd67",
     "grade": true,
     "grade_id": "c-concat",
     "locked": true,
     "points": 2,
     "schema_version": 3,
     "solution": false,
     "task": false
    }
   },
   "outputs": [],
   "source": [
    "# check your code\n",
    "assert len(df) == 11\n",
    "assert df.loc[10, 'ads'] == 0"
   ]
  },
  {
   "cell_type": "code",
   "execution_count": null,
   "metadata": {
    "slideshow": {
     "slide_type": "slide"
    }
   },
   "outputs": [],
   "source": [
    "df"
   ]
  },
  {
   "cell_type": "code",
   "execution_count": null,
   "metadata": {
    "slideshow": {
     "slide_type": "slide"
    }
   },
   "outputs": [],
   "source": [
    "chart_new = alt.Chart(df).mark_point().encode(\n",
    "   x=alt.X('ads', axis=alt.Axis(title='Ads (in $)')),\n",
    "   y=alt.Y('sales', axis=alt.Axis(title=\"Sales (in units)\"))\n",
    ")\n",
    "\n",
    "line_new = alt.Chart(df).mark_line().encode(\n",
    "         alt.X('ads', axis=alt.Axis(title='Ads (in $)')),\n",
    "         alt.Y('sales_prediction', axis=alt.Axis(title=\"Sales (in units)\")),\n",
    "         color=alt.value(\"#0001F5\"))\n",
    "\n",
    "callout_new = alt.Chart(df.loc[10:'sales_prediction']).mark_point(\n",
    "    color='red', \n",
    "    size=300, \n",
    "    tooltip=\"Ads = 0, Sales prediction = 500\"\n",
    ").encode(\n",
    "    x='ads',\n",
    "    y='sales_prediction'\n",
    ")\n",
    "\n",
    "chart_new + line_new + callout_new"
   ]
  }
 ],
 "metadata": {
  "kernelspec": {
   "display_name": "Python 3 (ipykernel)",
   "language": "python",
   "name": "python3"
  },
  "language_info": {
   "codemirror_mode": {
    "name": "ipython",
    "version": 3
   },
   "file_extension": ".py",
   "mimetype": "text/x-python",
   "name": "python",
   "nbconvert_exporter": "python",
   "pygments_lexer": "ipython3",
   "version": "3.9.13"
  },
  "vscode": {
   "interpreter": {
    "hash": "57137d00906dcfc610b0009cd9be1d97c3b9b0b8cb7228e2ff7c7001d05affbc"
   }
  }
 },
 "nbformat": 4,
 "nbformat_minor": 2
}
