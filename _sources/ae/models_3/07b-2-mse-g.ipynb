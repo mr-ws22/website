{
 "cells": [
  {
   "cell_type": "markdown",
   "metadata": {},
   "source": [
    "**Important notes:**\n",
    "\n",
    "**Important notes:**\n",
    "\n",
    "- You can complete this exercise in 1) Colab or 2) on your local machine\n",
    "  1. **Colab**: Click on the 🚀 symbol at the top of the page and select Colab. When you finished the exercise, download the file: `File` > `Download` > `ipynb`. \n",
    "  2. **Local**: click on the download button at the top of the page and choose `.ipynb`. Activate the conda environment `mr` before you start: `conda activate mr`\n",
    "\n",
    "\n",
    "- Don't change the name of the file and don't delete any cells.\n",
    "\n",
    "\n",
    "- Make sure you fill in any place that says  <font color='green'> \\# YOUR CODE HERE </font> or \"YOUR ANSWER HERE\", as well as your name and (if necessary) collaborators below.\n",
    "\n",
    "\n",
    "- The function **NotImplementedError()** prevents you from hand in assignments with empty cells. Simply delete the function if you start working on a cell with this entry.\n",
    "\n",
    "\n",
    "- Before you turn this problem in (i.e., after you completed all tasks), make sure everything runs as expected: Restart the kernel and run all cells:\n",
    "  - in *Colab*: in the menubar, select `Runtime` and click on `Restart and run all`\n",
    "  - if you use *Jupyter Notebook*: in the menubar, select `Kernel` and click on `Restart & Run All`\n",
    "  - if you use *Visual Studio Code*: select \"Restart\" and then \"Run All\" \n",
    "\n",
    "\n",
    "Good luck!"
   ]
  },
  {
   "cell_type": "code",
   "execution_count": null,
   "metadata": {},
   "outputs": [],
   "source": [
    "NAME = \"\"\n",
    "COLLABORATORS = \"\""
   ]
  },
  {
   "cell_type": "code",
   "execution_count": null,
   "metadata": {},
   "outputs": [],
   "source": [
    "import IPython\n",
    "assert IPython.version_info[0] >= 3, \"Your version of IPython is too old, please update it.\""
   ]
  },
  {
   "cell_type": "markdown",
   "metadata": {},
   "source": [
    "---"
   ]
  },
  {
   "cell_type": "markdown",
   "metadata": {
    "slideshow": {
     "slide_type": "slide"
    }
   },
   "source": [
    "# Mean squared error"
   ]
  },
  {
   "cell_type": "markdown",
   "metadata": {
    "slideshow": {
     "slide_type": "fragment"
    }
   },
   "source": [
    "## Setup\n",
    "\n",
    "We need the following modules:\n",
    "\n",
    "- pandas\n",
    "- scikit-learn"
   ]
  },
  {
   "cell_type": "code",
   "execution_count": null,
   "metadata": {
    "slideshow": {
     "slide_type": "subslide"
    }
   },
   "outputs": [],
   "source": [
    "import pandas as pd\n",
    "from sklearn.metrics import mean_squared_error"
   ]
  },
  {
   "cell_type": "markdown",
   "metadata": {
    "slideshow": {
     "slide_type": "slide"
    }
   },
   "source": [
    "## Data"
   ]
  },
  {
   "cell_type": "markdown",
   "metadata": {
    "slideshow": {
     "slide_type": "slide"
    }
   },
   "source": [
    "### Create data"
   ]
  },
  {
   "cell_type": "code",
   "execution_count": null,
   "metadata": {
    "slideshow": {
     "slide_type": "fragment"
    }
   },
   "outputs": [],
   "source": [
    "df = pd.DataFrame(\n",
    "    {'sales': [2500, 4500, 6500, 8500, 10500, 12500, 14500, 16500, 18500, 20500],\n",
    "      'ads'  : [900, 1400, 3600, 3800, 6200, 5200, 6800, 8300, 9800, 10100]}\n",
    ")"
   ]
  },
  {
   "cell_type": "markdown",
   "metadata": {
    "slideshow": {
     "slide_type": "slide"
    }
   },
   "source": [
    "### Data structure"
   ]
  },
  {
   "cell_type": "code",
   "execution_count": null,
   "metadata": {},
   "outputs": [],
   "source": [
    "df"
   ]
  },
  {
   "cell_type": "code",
   "execution_count": null,
   "metadata": {
    "slideshow": {
     "slide_type": "subslide"
    }
   },
   "outputs": [],
   "source": [
    "df.info()"
   ]
  },
  {
   "cell_type": "markdown",
   "metadata": {
    "slideshow": {
     "slide_type": "slide"
    }
   },
   "source": [
    "## Model"
   ]
  },
  {
   "cell_type": "code",
   "execution_count": null,
   "metadata": {
    "slideshow": {
     "slide_type": "fragment"
    }
   },
   "outputs": [],
   "source": [
    "intercept = 500 \n",
    "slope = 2\n",
    "\n",
    "df['sales_prediction'] = intercept + slope * df['ads'] "
   ]
  },
  {
   "cell_type": "markdown",
   "metadata": {
    "slideshow": {
     "slide_type": "slide"
    }
   },
   "source": [
    "### Calculate mean squared error"
   ]
  },
  {
   "cell_type": "markdown",
   "metadata": {
    "slideshow": {
     "slide_type": "fragment"
    }
   },
   "source": [
    "---\n",
    "\n",
    "Step 1: calculate the squared difference between true outcome and prediction:"
   ]
  },
  {
   "cell_type": "markdown",
   "metadata": {
    "slideshow": {
     "slide_type": "subslide"
    }
   },
   "source": [
    "\n",
    "The general formula:\n",
    "\n",
    "\n",
    "$$Squared\\ errors \\ (SE) = (y_i-\\hat{y_i})^2$$\n",
    "\n"
   ]
  },
  {
   "cell_type": "markdown",
   "metadata": {
    "slideshow": {
     "slide_type": "fragment"
    }
   },
   "source": [
    "For our data this means:\n",
    "\n",
    "$$ se = (sales_i - sales\\_prediction_i)^2$$"
   ]
  },
  {
   "cell_type": "markdown",
   "metadata": {
    "slideshow": {
     "slide_type": "fragment"
    }
   },
   "source": [
    "Hint\n",
    "\n",
    "---\n",
    "\n",
    "```python\n",
    "df['___'] = (df['___'] - df['___']) ___ ___\n",
    "\n",
    "```\n",
    "\n",
    "---\n",
    "\n",
    "- Use the `**` (power) operator to raise a value to the power of 2."
   ]
  },
  {
   "cell_type": "code",
   "execution_count": null,
   "metadata": {
    "deletable": false,
    "nbgrader": {
     "cell_type": "code",
     "checksum": "4bfb9e7c585b4b262fee4675bc77bac3",
     "grade": false,
     "grade_id": "se",
     "locked": false,
     "schema_version": 3,
     "solution": true,
     "task": false
    },
    "slideshow": {
     "slide_type": "subslide"
    }
   },
   "outputs": [],
   "source": [
    "# YOUR CODE HERE\n",
    "raise NotImplementedError()"
   ]
  },
  {
   "cell_type": "code",
   "execution_count": null,
   "metadata": {
    "slideshow": {
     "slide_type": "subslide"
    }
   },
   "outputs": [],
   "source": [
    "df.head()"
   ]
  },
  {
   "cell_type": "code",
   "execution_count": null,
   "metadata": {
    "deletable": false,
    "editable": false,
    "nbgrader": {
     "cell_type": "code",
     "checksum": "81787635880543bf4ec75fa4091c4963",
     "grade": true,
     "grade_id": "c-se",
     "locked": true,
     "points": 2,
     "schema_version": 3,
     "solution": false,
     "task": false
    }
   },
   "outputs": [],
   "source": [
    "# Check your code\n",
    "assert df.loc[0, 'se'] == 40000"
   ]
  },
  {
   "cell_type": "markdown",
   "metadata": {
    "slideshow": {
     "slide_type": "slide"
    }
   },
   "source": [
    "---\n",
    "\n",
    "Step 2: Sum up all squared errors\n",
    "\n",
    "Calculate the sum of squared errors (SSE)"
   ]
  },
  {
   "cell_type": "markdown",
   "metadata": {
    "slideshow": {
     "slide_type": "slide"
    }
   },
   "source": [
    "The general formula:\n",
    "\n",
    "$$Sum\\ of\\ squared\\ errors \\ (SSE) = \\sum_{i=1}^{n}(y_i-\\hat{y_i})^2$$\n",
    "\n",
    "which equals\n",
    "\n",
    "$$Sum\\ of\\ squared\\ errors \\ (SSE) = \\sum_{i=1}^{n} SE$$"
   ]
  },
  {
   "cell_type": "markdown",
   "metadata": {
    "slideshow": {
     "slide_type": "slide"
    }
   },
   "source": [
    "\n",
    "\n",
    "For our data this means:\n",
    "\n",
    "\n",
    "\n",
    "$$sse = \\sum_{i=1}^{n}(sales_i-\\hat{sales\\_prediction_i})^2$$\n",
    "\n",
    "\n",
    "which equals\n",
    "\n",
    "$$sse = \\sum_{i=1}^{n} se$$"
   ]
  },
  {
   "cell_type": "markdown",
   "metadata": {
    "slideshow": {
     "slide_type": "slide"
    }
   },
   "source": [
    "Hint\n",
    "\n",
    "Sum up the squared errors and save the result in a new object called `sse` (not in the Pandas dataframe)\n",
    "\n",
    "---\n",
    "\n",
    "```python\n",
    "___ = df['___'].___\n",
    "```\n",
    "\n",
    "---\n",
    "\n",
    "- Save the result as `sse`\n",
    "- use the method `.sum()` to sum up all `se`"
   ]
  },
  {
   "cell_type": "code",
   "execution_count": null,
   "metadata": {
    "deletable": false,
    "nbgrader": {
     "cell_type": "code",
     "checksum": "ea867cd93a18bda2b1b49ee29d3f5436",
     "grade": false,
     "grade_id": "sse",
     "locked": false,
     "schema_version": 3,
     "solution": true,
     "task": false
    },
    "slideshow": {
     "slide_type": "fragment"
    }
   },
   "outputs": [],
   "source": [
    "# YOUR CODE HERE\n",
    "raise NotImplementedError()"
   ]
  },
  {
   "cell_type": "code",
   "execution_count": null,
   "metadata": {
    "slideshow": {
     "slide_type": "subslide"
    }
   },
   "outputs": [],
   "source": [
    "sse"
   ]
  },
  {
   "cell_type": "code",
   "execution_count": null,
   "metadata": {
    "deletable": false,
    "editable": false,
    "nbgrader": {
     "cell_type": "code",
     "checksum": "082f35d9e4f72eb638dd856995222ae1",
     "grade": true,
     "grade_id": "c-sse",
     "locked": true,
     "points": 2,
     "schema_version": 3,
     "solution": false,
     "task": false
    }
   },
   "outputs": [],
   "source": [
    "# Chack your code\n",
    "assert sse == 14520000"
   ]
  },
  {
   "cell_type": "markdown",
   "metadata": {
    "slideshow": {
     "slide_type": "slide"
    }
   },
   "source": [
    "---\n",
    "\n",
    "Step 3: Divide by the number of examples\n",
    "\n",
    "The general formula:\n",
    "\n",
    "$$Mean\\ squared\\ error \\ (MSE) = \\frac{1}{n} \\times \\sum_{i=1}^{n}(y_i-\\hat{y_i})^2$$\n",
    "\n",
    "which equals\n",
    "\n",
    "$$Mean\\ squared\\ error \\ (MSE) = \\frac{1}{n} \\times SSE$$\n",
    "\n",
    "*with n = the number of observations*"
   ]
  },
  {
   "cell_type": "markdown",
   "metadata": {
    "slideshow": {
     "slide_type": "slide"
    }
   },
   "source": [
    "\n",
    "\n",
    "For our data this means:\n",
    "\n",
    "\n",
    "\n",
    "$$mse = \\frac{1}{n} \\times \\sum_{i=1}^{n}(sales_i-\\hat{sales\\_prediction_i})^2$$\n",
    "\n",
    "which equals\n",
    "\n",
    "$$mse = \\frac{1}{n} \\times sse $$\n",
    "\n",
    "\n",
    "*with n = the number of observations*\n",
    "\n"
   ]
  },
  {
   "cell_type": "code",
   "execution_count": null,
   "metadata": {
    "slideshow": {
     "slide_type": "subslide"
    }
   },
   "outputs": [],
   "source": [
    "# Obtain number of examples (observations)\n",
    "n = len(df)"
   ]
  },
  {
   "cell_type": "code",
   "execution_count": null,
   "metadata": {
    "slideshow": {
     "slide_type": "fragment"
    }
   },
   "outputs": [],
   "source": [
    "n"
   ]
  },
  {
   "cell_type": "markdown",
   "metadata": {
    "slideshow": {
     "slide_type": "slide"
    }
   },
   "source": [
    "Calculate the mse and save the result as `mse`:"
   ]
  },
  {
   "cell_type": "code",
   "execution_count": null,
   "metadata": {
    "deletable": false,
    "nbgrader": {
     "cell_type": "code",
     "checksum": "777256bec5c11df90dbb9d0f4a4e0842",
     "grade": false,
     "grade_id": "mse",
     "locked": false,
     "schema_version": 3,
     "solution": true,
     "task": false
    },
    "slideshow": {
     "slide_type": "subslide"
    }
   },
   "outputs": [],
   "source": [
    "# YOUR CODE HERE\n",
    "raise NotImplementedError()"
   ]
  },
  {
   "cell_type": "code",
   "execution_count": null,
   "metadata": {
    "slideshow": {
     "slide_type": "fragment"
    }
   },
   "outputs": [],
   "source": [
    "mse"
   ]
  },
  {
   "cell_type": "code",
   "execution_count": null,
   "metadata": {
    "slideshow": {
     "slide_type": "fragment"
    }
   },
   "outputs": [],
   "source": [
    "# alternative way to print the result\n",
    "print(f'The MSE equals {mse:.0f}')"
   ]
  },
  {
   "cell_type": "code",
   "execution_count": null,
   "metadata": {
    "deletable": false,
    "editable": false,
    "nbgrader": {
     "cell_type": "code",
     "checksum": "110cb989776bd9045591c883d3f8aaa2",
     "grade": true,
     "grade_id": "c-mse",
     "locked": true,
     "points": 2,
     "schema_version": 3,
     "solution": false,
     "task": false
    }
   },
   "outputs": [],
   "source": [
    "# Check your code\n",
    "assert 1451000 < mse < 1453000"
   ]
  },
  {
   "cell_type": "markdown",
   "metadata": {
    "slideshow": {
     "slide_type": "slide"
    }
   },
   "source": [
    "### Root mean squared error"
   ]
  },
  {
   "cell_type": "markdown",
   "metadata": {
    "slideshow": {
     "slide_type": "slide"
    }
   },
   "source": [
    "---\n",
    "\n",
    "Another important measure is the root mean squared error:\n",
    "\n",
    "The general formula:\n",
    "\n",
    "$$Root\\ mean\\ squared\\ error \\ (RMSE) = \\sqrt{\\frac{1}{n} \\times \\sum_{i=1}^{n}(y_i-\\hat{y_i})^2}$$\n",
    "\n",
    "which equals\n",
    "\n",
    "$$Root\\ mean\\ squared\\ error \\ (RMSE) = \\sqrt{\\frac{1}{n} \\times SSE}$$\n",
    "\n",
    "*with n = the number of observations*\n",
    "\n",
    "\n",
    "\n"
   ]
  },
  {
   "cell_type": "markdown",
   "metadata": {
    "slideshow": {
     "slide_type": "subslide"
    }
   },
   "source": [
    "\n",
    "For our data this means:\n",
    "\n",
    "\n",
    "$$rmse = \\sqrt{\\frac{1}{n} \\times \\sum_{i=1}^{n}(sales_i-\\hat{sales\\_prediction_i})^2}$$\n",
    "\n",
    "which equals\n",
    "\n",
    "$$rmse = \\sqrt{\\frac{1}{n} \\times sse} $$\n",
    "\n",
    "which also equals\n",
    "\n",
    "$$rmse = (\\frac{1}{n} \\times sse)^\\frac{1}{2} $$\n",
    "\n",
    "\n",
    "\n",
    "with n = the number of observations"
   ]
  },
  {
   "cell_type": "markdown",
   "metadata": {
    "slideshow": {
     "slide_type": "subslide"
    }
   },
   "source": [
    "Calculate the rmse and save the result as `rmse` (not in your Dataframe):"
   ]
  },
  {
   "cell_type": "code",
   "execution_count": null,
   "metadata": {
    "deletable": false,
    "nbgrader": {
     "cell_type": "code",
     "checksum": "9b57ea2b4064a3c7cc32097537fb28cc",
     "grade": false,
     "grade_id": "rmse",
     "locked": false,
     "schema_version": 3,
     "solution": true,
     "task": false
    },
    "slideshow": {
     "slide_type": "subslide"
    }
   },
   "outputs": [],
   "source": [
    "# YOUR CODE HERE\n",
    "raise NotImplementedError()"
   ]
  },
  {
   "cell_type": "code",
   "execution_count": null,
   "metadata": {
    "slideshow": {
     "slide_type": "fragment"
    }
   },
   "outputs": [],
   "source": [
    "rmse"
   ]
  },
  {
   "cell_type": "code",
   "execution_count": null,
   "metadata": {
    "deletable": false,
    "editable": false,
    "nbgrader": {
     "cell_type": "code",
     "checksum": "59bd4e4cf970f43da0956fe02c48ae73",
     "grade": true,
     "grade_id": "c-rmse",
     "locked": true,
     "points": 2,
     "schema_version": 3,
     "solution": false,
     "task": false
    },
    "slideshow": {
     "slide_type": "fragment"
    }
   },
   "outputs": [],
   "source": [
    "# Check your code\n",
    "assert 1203 < rmse < 1206"
   ]
  },
  {
   "cell_type": "markdown",
   "metadata": {
    "slideshow": {
     "slide_type": "slide"
    }
   },
   "source": [
    "### Mean absolute error"
   ]
  },
  {
   "cell_type": "markdown",
   "metadata": {
    "slideshow": {
     "slide_type": "subslide"
    }
   },
   "source": [
    "Another performance measure (which is less commonly used) is the mean absolute error:\n",
    "\n",
    "The general formula:\n",
    "\n",
    "$$Mean\\ absolute\\ error \\ (MAE) = \\frac{1}{n} \\times \\sum_{i=1}^{n}(y_i-\\hat{y_i})$$\n",
    "\n"
   ]
  },
  {
   "cell_type": "markdown",
   "metadata": {
    "slideshow": {
     "slide_type": "slide"
    }
   },
   "source": [
    "### Use functions"
   ]
  },
  {
   "cell_type": "markdown",
   "metadata": {
    "slideshow": {
     "slide_type": "fragment"
    }
   },
   "source": [
    "#### Mean squared error"
   ]
  },
  {
   "cell_type": "code",
   "execution_count": null,
   "metadata": {
    "slideshow": {
     "slide_type": "fragment"
    }
   },
   "outputs": [],
   "source": [
    "mean_squared_error(df['sales'], df['sales_prediction'])"
   ]
  },
  {
   "cell_type": "markdown",
   "metadata": {
    "slideshow": {
     "slide_type": "slide"
    }
   },
   "source": [
    "#### Root mean squared error"
   ]
  },
  {
   "cell_type": "code",
   "execution_count": null,
   "metadata": {
    "slideshow": {
     "slide_type": "fragment"
    }
   },
   "outputs": [],
   "source": [
    "mean_squared_error(df['sales'], df['sales_prediction'], squared=False)"
   ]
  },
  {
   "cell_type": "markdown",
   "metadata": {
    "slideshow": {
     "slide_type": "slide"
    }
   },
   "source": [
    "#### Mean absolute error"
   ]
  },
  {
   "cell_type": "code",
   "execution_count": null,
   "metadata": {
    "slideshow": {
     "slide_type": "fragment"
    }
   },
   "outputs": [],
   "source": [
    "mean_absolute_error(df['sales'], df['sales_prediction'])"
   ]
  }
 ],
 "metadata": {
  "kernelspec": {
   "display_name": "Python 3 (ipykernel)",
   "language": "python",
   "name": "python3"
  },
  "language_info": {
   "codemirror_mode": {
    "name": "ipython",
    "version": 3
   },
   "file_extension": ".py",
   "mimetype": "text/x-python",
   "name": "python",
   "nbconvert_exporter": "python",
   "pygments_lexer": "ipython3",
   "version": "3.9.13"
  },
  "vscode": {
   "interpreter": {
    "hash": "147de23312147813b0623f895fe208f672aacb131d01c672b840a7a22f97849e"
   }
  }
 },
 "nbformat": 4,
 "nbformat_minor": 2
}
