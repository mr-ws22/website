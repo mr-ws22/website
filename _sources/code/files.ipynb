{
 "cells": [
  {
   "cell_type": "code",
   "execution_count": 1,
   "metadata": {},
   "outputs": [],
   "source": [
    "import os"
   ]
  },
  {
   "cell_type": "code",
   "execution_count": null,
   "metadata": {},
   "outputs": [],
   "source": [
    "old_files = os.listdir()"
   ]
  },
  {
   "cell_type": "code",
   "execution_count": 2,
   "metadata": {},
   "outputs": [
    {
     "data": {
      "text/plain": [
       "['35-ds-happy-scikit-splitting.ipynb',\n",
       " '07e-least-squares.ipynb',\n",
       " '27-comparisons-across-groups-altair.ipynb',\n",
       " '18-contingency-table-bar-plot.ipynb',\n",
       " 'code-overview.md',\n",
       " '.DS_Store',\n",
       " '23-histograms-altair.ipynb',\n",
       " '26-transforming-data-altair.ipynb',\n",
       " '16-standardized-bar-chart-altair.ipynb',\n",
       " 'mapping-data-altair.ipynb',\n",
       " '07d-correlation.ipynb',\n",
       " '12-data-overview.ipynb',\n",
       " '07f-strength-fit.ipynb',\n",
       " '24-histograms-kernel-density-altair.ipynb',\n",
       " '13-bar-chart-altair.ipynb',\n",
       " '21-scatterplot-paired-data-altair.ipynb',\n",
       " '07g-categorical.ipynb',\n",
       " '22-dot-plots-mean-altair.ipynb',\n",
       " 'files.ipynb',\n",
       " 'altair-marks.md',\n",
       " '28-ds-happy-scikit.ipynb',\n",
       " '25-box-plot-altair.ipynb',\n",
       " '11-altair_introduction_p.ipynb',\n",
       " '07f-strength-fit-g.ipynb',\n",
       " '33-fitting.ipynb',\n",
       " '19-row-column-proportions.ipynb',\n",
       " '15-stacked-bar-chart-altair.ipynb',\n",
       " '17-pie-charts-altair.ipynb',\n",
       " '14-dodged-bar-chart-altair.ipynb']"
      ]
     },
     "execution_count": 2,
     "metadata": {},
     "output_type": "execute_result"
    }
   ],
   "source": [
    "arr"
   ]
  },
  {
   "cell_type": "code",
   "execution_count": null,
   "metadata": {},
   "outputs": [],
   "source": []
  }
 ],
 "metadata": {
  "kernelspec": {
   "display_name": "Python 3.9.13 ('ds')",
   "language": "python",
   "name": "python3"
  },
  "language_info": {
   "codemirror_mode": {
    "name": "ipython",
    "version": 3
   },
   "file_extension": ".py",
   "mimetype": "text/x-python",
   "name": "python",
   "nbconvert_exporter": "python",
   "pygments_lexer": "ipython3",
   "version": "3.9.13"
  },
  "orig_nbformat": 4,
  "vscode": {
   "interpreter": {
    "hash": "0de8387c967863cc622aba8b7ea5b466d4dfde089153d484429677aa77034389"
   }
  }
 },
 "nbformat": 4,
 "nbformat_minor": 2
}
