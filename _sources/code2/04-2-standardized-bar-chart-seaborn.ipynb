{
 "cells": [
  {
   "cell_type": "markdown",
   "metadata": {
    "slideshow": {
     "slide_type": "slide"
    }
   },
   "source": [
    "#  Standardized bar chart"
   ]
  },
  {
   "cell_type": "markdown",
   "metadata": {},
   "source": [
    "## Setup\n"
   ]
  },
  {
   "cell_type": "code",
   "execution_count": 1,
   "metadata": {},
   "outputs": [],
   "source": [
    "%matplotlib inline\n",
    "\n",
    "import pandas as pd\n",
    "import seaborn as sns\n",
    "import matplotlib.pyplot as plt\n",
    "from matplotlib import rc\n",
    "\n",
    "# Seaborn style\n",
    "sns.set_theme(style=\"ticks\")\n",
    "\n",
    "# Custom colors\n",
    "blue = \"#3F83F4\"\n",
    "grey = \"#9C9C9C\""
   ]
  },
  {
   "cell_type": "markdown",
   "metadata": {
    "slideshow": {
     "slide_type": "slide"
    }
   },
   "source": [
    "## Data"
   ]
  },
  {
   "cell_type": "code",
   "execution_count": 2,
   "metadata": {
    "slideshow": {
     "slide_type": "fragment"
    }
   },
   "outputs": [],
   "source": [
    "ROOT = \"https://raw.githubusercontent.com/kirenz/modern-statistics/main/data/\"\n",
    "DATA = \"loans.csv\"\n",
    "\n",
    "df = pd.read_csv(ROOT + DATA)\n",
    "\n",
    "df.homeownership = df.homeownership.astype(\"category\")\n",
    "df.application_type = df.application_type.astype(\"category\")"
   ]
  },
  {
   "cell_type": "markdown",
   "metadata": {
    "slideshow": {
     "slide_type": "slide"
    }
   },
   "source": [
    "## Chart"
   ]
  },
  {
   "cell_type": "code",
   "execution_count": 3,
   "metadata": {
    "scrolled": false,
    "slideshow": {
     "slide_type": "slide"
    }
   },
   "outputs": [
    {
     "data": {
      "image/png": "[encoded data removed]",
      "text/plain": [
       "<Figure size 432x288 with 1 Axes>"
      ]
     },
     "metadata": {},
     "output_type": "display_data"
    }
   ],
   "source": [
    "# Data\n",
    "joint = df.homeownership[df.application_type==\"joint\"].value_counts() \n",
    "individual = df.homeownership[df.application_type==\"individual\"].value_counts() \n",
    "labels = list(df['homeownership'].value_counts().index)\n",
    "r = [0,1,2]\n",
    "\n",
    "# From raw value to percentage\n",
    "totals = [i+j for i,j in zip(joint, individual)]\n",
    "joint_bar = [i / j * 100 for i,j in zip(joint, totals)]\n",
    "individual_bar = [i / j * 100 for i,j in zip(individual, totals)]\n",
    "\n",
    "# plot\n",
    "barWidth = 0.85\n",
    "plt.bar(r, individual_bar, color=grey, edgecolor='white', width=barWidth, label=\"individual\")\n",
    "plt.bar(r, joint_bar, bottom=individual_bar, color=blue, edgecolor='white', width=barWidth, label=\"joint\")\n",
    "\n",
    "# Custom axis\n",
    "plt.xticks(r, labels)\n",
    "plt.xlabel(\"Homeownership\")\n",
    "plt.ylabel(\"Proportion\")\n",
    "\n",
    "# Add a legend and title\n",
    "plt.legend(loc='upper left', bbox_to_anchor=(1,1), ncol=1)\n",
    "plt.title(\"Standardized bar chart\");"
   ]
  }
 ],
 "metadata": {
  "celltoolbar": "Slideshow",
  "kernelspec": {
   "display_name": "Python 3.9.13 ('base')",
   "language": "python",
   "name": "python3"
  },
  "language_info": {
   "codemirror_mode": {
    "name": "ipython",
    "version": 3
   },
   "file_extension": ".py",
   "mimetype": "text/x-python",
   "name": "python",
   "nbconvert_exporter": "python",
   "pygments_lexer": "ipython3",
   "version": "3.9.13"
  },
  "varInspector": {
   "cols": {
    "lenName": 16,
    "lenType": 16,
    "lenVar": 40
   },
   "kernels_config": {
    "python": {
     "delete_cmd_postfix": "",
     "delete_cmd_prefix": "del ",
     "library": "var_list.py",
     "varRefreshCmd": "print(var_dic_list())"
    },
    "r": {
     "delete_cmd_postfix": ") ",
     "delete_cmd_prefix": "rm(",
     "library": "var_list.r",
     "varRefreshCmd": "cat(var_dic_list()) "
    }
   },
   "types_to_exclude": [
    "module",
    "function",
    "builtin_function_or_method",
    "instance",
    "_Feature"
   ],
   "window_display": false
  },
  "vscode": {
   "interpreter": {
    "hash": "c6e4e9f98eb68ad3b7c296f83d20e6de614cb42e90992a65aa266555a3137d0d"
   }
  }
 },
 "nbformat": 4,
 "nbformat_minor": 2
}
